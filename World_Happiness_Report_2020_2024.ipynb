{
  "cells": [
    {
      "cell_type": "markdown",
      "metadata": {
        "id": "view-in-github",
        "colab_type": "text"
      },
      "source": [
        "<a href=\"https://colab.research.google.com/github/carogaltier/world-happiness-report/blob/main/World_Happiness_Report_2020_2024.ipynb\" target=\"_parent\"><img src=\"https://colab.research.google.com/assets/colab-badge.svg\" alt=\"Open In Colab\"/></a>"
      ]
    },
    {
      "cell_type": "code",
      "execution_count": null,
      "metadata": {
        "id": "XRQt16RjTPpX"
      },
      "outputs": [],
      "source": [
        "# Import necessary libraries\n",
        "import pandas as pd"
      ]
    },
    {
      "cell_type": "code",
      "execution_count": null,
      "metadata": {
        "id": "z-FPIZ38TRlG"
      },
      "outputs": [],
      "source": [
        "# Define file paths (adjust the paths as needed)\n",
        "files = {\n",
        "    2024: \"/content/WHR2024.csv\",\n",
        "    2023: \"/content/WHR2023.csv\",\n",
        "    2022: \"/content/WHR2022.csv\",\n",
        "    2021: \"/content/WHR2021.csv\",\n",
        "    2020: \"/content/WHR2020.csv\"\n",
        "}"
      ]
    },
    {
      "cell_type": "code",
      "execution_count": null,
      "metadata": {
        "id": "YCynGj4vTBeB"
      },
      "outputs": [],
      "source": [
        "# Function to load and process each file\n",
        "def process_file(year, path):\n",
        "    print(f\"Processing file for year: {year} from {path}\")  # Debug: Output which file is being processed\n",
        "    df = pd.read_csv(path)\n",
        "    if year == 2024:\n",
        "        df = df[['Country name', 'Ladder score', 'upperwhisker', 'lowerwhisker', 'Explained by: Log GDP per capita',\n",
        "                 'Explained by: Social support', 'Explained by: Healthy life expectancy',\n",
        "                 'Explained by: Freedom to make life choices', 'Explained by: Generosity',\n",
        "                 'Explained by: Perceptions of corruption', 'Dystopia + residual']]\n",
        "    elif year == 2023:\n",
        "        df = df[['Country name', 'Ladder score', 'upperwhisker', 'lowerwhisker', 'Explained by: Log GDP per capita',\n",
        "                 'Explained by: Social support', 'Explained by: Healthy life expectancy',\n",
        "                 'Explained by: Freedom to make life choices', 'Explained by: Generosity',\n",
        "                 'Explained by: Perceptions of corruption', 'Dystopia + residual']]\n",
        "    elif year == 2022:\n",
        "        df = df.rename(columns={'Country': 'Country name', 'Happiness score': 'Ladder score',\n",
        "                                'Whisker-high': 'upperwhisker', 'Whisker-low': 'lowerwhisker',\n",
        "                                'Explained by: GDP per capita': 'Explained by: Log GDP per capita',\n",
        "                                'Dystopia (1.83) + residual': 'Dystopia + residual'})\n",
        "        df = df[['Country name', 'Ladder score', 'upperwhisker', 'lowerwhisker', 'Explained by: Log GDP per capita',\n",
        "                 'Explained by: Social support', 'Explained by: Healthy life expectancy',\n",
        "                 'Explained by: Freedom to make life choices', 'Explained by: Generosity',\n",
        "                 'Explained by: Perceptions of corruption', 'Dystopia + residual']]\n",
        "    else:  # For 2020 and 2021 where region data is available\n",
        "        df = df.rename(columns={'Regional indicator': 'Sub-Region'})\n",
        "        df = df[['Country name', 'Sub-Region', 'Ladder score', 'upperwhisker', 'lowerwhisker',\n",
        "                 'Explained by: Log GDP per capita', 'Explained by: Social support', 'Explained by: Healthy life expectancy',\n",
        "                 'Explained by: Freedom to make life choices', 'Explained by: Generosity',\n",
        "                 'Explained by: Perceptions of corruption', 'Dystopia + residual']]\n",
        "\n",
        "    df['Year'] = year\n",
        "    return df"
      ]
    },
    {
      "cell_type": "code",
      "execution_count": null,
      "metadata": {
        "colab": {
          "base_uri": "https://localhost:8080/"
        },
        "id": "eA7sUmzcTWJ3",
        "outputId": "0e0ffad1-9ed0-4311-a0eb-2923c571464f"
      },
      "outputs": [
        {
          "output_type": "stream",
          "name": "stdout",
          "text": [
            "Processing file for year: 2024 from /content/WHR2024.csv\n",
            "Processing file for year: 2023 from /content/WHR2023.csv\n",
            "Processing file for year: 2022 from /content/WHR2022.csv\n",
            "Processing file for year: 2021 from /content/WHR2021.csv\n",
            "Processing file for year: 2020 from /content/WHR2020.csv\n"
          ]
        }
      ],
      "source": [
        "# Process all files and concatenate into a single DataFrame\n",
        "WHR_df = pd.concat([process_file(year, path) for year, path in files.items()])"
      ]
    },
    {
      "cell_type": "code",
      "execution_count": null,
      "metadata": {
        "id": "c5xnDhIrULfy"
      },
      "outputs": [],
      "source": [
        "# Create a country to region mapping from available years\n",
        "region_mapping = WHR_df.dropna(subset=['Sub-Region']).drop_duplicates(subset=['Country name'])\n",
        "region_mapping = pd.Series(region_mapping['Sub-Region'].values, index=region_mapping['Country name']).to_dict()\n",
        "\n",
        "# Fill missing region values based on the mapping\n",
        "WHR_df['Sub-Region'] = WHR_df['Country name'].map(region_mapping).fillna(WHR_df['Sub-Region'])"
      ]
    },
    {
      "cell_type": "code",
      "execution_count": null,
      "metadata": {
        "id": "VoLu7RF4e6F7"
      },
      "outputs": [],
      "source": [
        "region_mapping = {\n",
        "    'Western Europe': 'Europe',\n",
        "    'Middle East and North Africa': 'Middle East',\n",
        "    'Latin America and Caribbean': 'South America',\n",
        "    'Central and Eastern Europe': 'Europe',\n",
        "    'East Asia': 'Asia',\n",
        "    'Southeast Asia': 'Asia',\n",
        "    'Commonwealth of Independent States': 'Europe',\n",
        "    'Sub-Saharan Africa': 'Africa',\n",
        "    'South Asia': 'Asia',\n",
        "    'North America and ANZ': 'North America'  # General case\n",
        "}"
      ]
    },
    {
      "cell_type": "code",
      "execution_count": null,
      "metadata": {
        "id": "vY6nXRE3fElj"
      },
      "outputs": [],
      "source": [
        "# Apply general region mapping\n",
        "WHR_df['Region'] = WHR_df['Sub-Region'].map(region_mapping)\n",
        "\n",
        "# Special condition for Australia and New Zealand\n",
        "WHR_df.loc[WHR_df['Country name'].isin(['Australia', 'New Zealand']), 'Region'] = 'Oceania'"
      ]
    },
    {
      "cell_type": "code",
      "execution_count": null,
      "metadata": {
        "id": "J8iYf5NHfSOs"
      },
      "outputs": [],
      "source": [
        "# List of columns for which rankings are needed\n",
        "columns_to_rank = [\n",
        "    'Ladder score', 'Explained by: Log GDP per capita', 'Explained by: Social support',\n",
        "    'Explained by: Healthy life expectancy', 'Explained by: Freedom to make life choices',\n",
        "    'Explained by: Generosity', 'Explained by: Perceptions of corruption',\n",
        "    'Dystopia + residual'\n",
        "]\n",
        "\n",
        "# Function to convert columns to numeric and add ranking columns\n",
        "def add_ranking_columns(df):\n",
        "    for col in columns_to_rank:\n",
        "        # Ensure the column is numeric, converting non-numeric to NaN\n",
        "        df[col] = pd.to_numeric(df[col], errors='coerce')\n",
        "\n",
        "        # Name of the new ranking column\n",
        "        rank_col_name = f'Rank {col}'\n",
        "\n",
        "        # Sort df by 'Year' and the current column, compute ranking within each year\n",
        "        df[rank_col_name] = df.groupby('Year')[col].rank(ascending=False, method='first')\n",
        "    return df\n",
        "\n",
        "# Apply the function to add ranking columns to the DataFrame\n",
        "WHR_df = add_ranking_columns(WHR_df)"
      ]
    },
    {
      "cell_type": "code",
      "execution_count": null,
      "metadata": {
        "colab": {
          "base_uri": "https://localhost:8080/"
        },
        "id": "dPPJiJ2f-i7L",
        "outputId": "ab3b90bd-abc5-42cc-fc61-70d4d7fd52b0"
      },
      "outputs": [
        {
          "output_type": "stream",
          "name": "stdout",
          "text": [
            "Index(['Year', 'Region', 'Sub-Region', 'Country name', 'Ladder score',\n",
            "       'Rank Ladder score', 'upperwhisker', 'lowerwhisker',\n",
            "       'Explained by: Log GDP per capita', 'Explained by: Social support',\n",
            "       'Explained by: Healthy life expectancy',\n",
            "       'Explained by: Freedom to make life choices',\n",
            "       'Explained by: Generosity', 'Explained by: Perceptions of corruption',\n",
            "       'Dystopia + residual', 'Rank Log GDP per capita', 'Rank Social support',\n",
            "       'Rank Healthy life expectancy', 'Rank Freedom to make life choices',\n",
            "       'Rank Generosity', 'Rank Perceptions of corruption',\n",
            "       'Rank Dystopia + residual'],\n",
            "      dtype='object')\n"
          ]
        }
      ],
      "source": [
        "# Define the new order of the columns\n",
        "new_column_order = [\n",
        "    'Year', 'Region', 'Sub-Region', 'Country name', 'Ladder score', 'Rank Ladder score', 'upperwhisker', 'lowerwhisker',\n",
        "    'Explained by: Log GDP per capita', 'Explained by: Social support',\n",
        "    'Explained by: Healthy life expectancy', 'Explained by: Freedom to make life choices',\n",
        "    'Explained by: Generosity', 'Explained by: Perceptions of corruption', 'Dystopia + residual',\n",
        "    'Rank Explained by: Log GDP per capita', 'Rank Explained by: Social support',\n",
        "    'Rank Explained by: Healthy life expectancy', 'Rank Explained by: Freedom to make life choices',\n",
        "    'Rank Explained by: Generosity', 'Rank Explained by: Perceptions of corruption',\n",
        "    'Rank Dystopia + residual'\n",
        "]\n",
        "\n",
        "# Reorder the DataFrame according to the new column order\n",
        "WHR_df = WHR_df[new_column_order]\n",
        "\n",
        "# Rename 'Rank' columns to remove 'Explained by:'\n",
        "WHR_df.columns = [col.replace('Rank Explained by: ', 'Rank ') for col in WHR_df.columns]\n",
        "\n",
        "# Verify the changes by printing the DataFrame columns\n",
        "print(WHR_df.columns)"
      ]
    },
    {
      "cell_type": "code",
      "execution_count": null,
      "metadata": {
        "id": "3UQzVOdUhhfq"
      },
      "outputs": [],
      "source": [
        "WHR_df = WHR_df.rename(columns={'Country name': 'Country Name'})"
      ]
    },
    {
      "cell_type": "code",
      "execution_count": null,
      "metadata": {
        "id": "jfLkJF2ni9rx"
      },
      "outputs": [],
      "source": [
        "WHR_df['Country Name'] = WHR_df['Country Name'].str.rstrip('*')"
      ]
    },
    {
      "cell_type": "code",
      "source": [
        "WHR_df = WHR_df[WHR_df['Country Name'] != 'xx']"
      ],
      "metadata": {
        "id": "ZTTrNCKI-7xI"
      },
      "execution_count": null,
      "outputs": []
    },
    {
      "cell_type": "code",
      "execution_count": null,
      "metadata": {
        "id": "e8ufymtEmWdP"
      },
      "outputs": [],
      "source": [
        "# Save the DataFrame to a CSV file\n",
        "WHR_df.to_csv(\"WHR_2020_2024.csv\", index=False)"
      ]
    }
  ],
  "metadata": {
    "colab": {
      "provenance": [],
      "authorship_tag": "ABX9TyMAkd+Xhd9BDqKNBxLIQfvg",
      "include_colab_link": true
    },
    "kernelspec": {
      "display_name": "Python 3",
      "name": "python3"
    },
    "language_info": {
      "name": "python"
    }
  },
  "nbformat": 4,
  "nbformat_minor": 0
}